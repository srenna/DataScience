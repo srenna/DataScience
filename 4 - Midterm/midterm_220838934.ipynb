{
 "cells": [
  {
   "cell_type": "code",
   "execution_count": 85,
   "metadata": {},
   "outputs": [
    {
     "data": {
      "text/html": [
       "<div>\n",
       "<style scoped>\n",
       "    .dataframe tbody tr th:only-of-type {\n",
       "        vertical-align: middle;\n",
       "    }\n",
       "\n",
       "    .dataframe tbody tr th {\n",
       "        vertical-align: top;\n",
       "    }\n",
       "\n",
       "    .dataframe thead th {\n",
       "        text-align: right;\n",
       "    }\n",
       "</style>\n",
       "<table border=\"1\" class=\"dataframe\">\n",
       "  <thead>\n",
       "    <tr style=\"text-align: right;\">\n",
       "      <th></th>\n",
       "      <th>userID</th>\n",
       "      <th>age</th>\n",
       "      <th>sessions</th>\n",
       "      <th>time_spent</th>\n",
       "      <th>pages_visited</th>\n",
       "      <th>cart_items</th>\n",
       "      <th>cart_value</th>\n",
       "      <th>checkout_status</th>\n",
       "      <th>device</th>\n",
       "      <th>location</th>\n",
       "    </tr>\n",
       "  </thead>\n",
       "  <tbody>\n",
       "    <tr>\n",
       "      <th>0</th>\n",
       "      <td>1</td>\n",
       "      <td>62</td>\n",
       "      <td>3</td>\n",
       "      <td>13.295129</td>\n",
       "      <td>2</td>\n",
       "      <td>20</td>\n",
       "      <td>199.21</td>\n",
       "      <td>0</td>\n",
       "      <td>Desktop</td>\n",
       "      <td>Location 1</td>\n",
       "    </tr>\n",
       "    <tr>\n",
       "      <th>1</th>\n",
       "      <td>2</td>\n",
       "      <td>65</td>\n",
       "      <td>2</td>\n",
       "      <td>21.686405</td>\n",
       "      <td>3</td>\n",
       "      <td>21</td>\n",
       "      <td>294.82</td>\n",
       "      <td>0</td>\n",
       "      <td>Desktop</td>\n",
       "      <td>Location 3</td>\n",
       "    </tr>\n",
       "    <tr>\n",
       "      <th>2</th>\n",
       "      <td>3</td>\n",
       "      <td>18</td>\n",
       "      <td>7</td>\n",
       "      <td>17.135220</td>\n",
       "      <td>4</td>\n",
       "      <td>23</td>\n",
       "      <td>240.87</td>\n",
       "      <td>0</td>\n",
       "      <td>Desktop</td>\n",
       "      <td>Location 4</td>\n",
       "    </tr>\n",
       "    <tr>\n",
       "      <th>3</th>\n",
       "      <td>4</td>\n",
       "      <td>21</td>\n",
       "      <td>9</td>\n",
       "      <td>29.589311</td>\n",
       "      <td>8</td>\n",
       "      <td>16</td>\n",
       "      <td>183.78</td>\n",
       "      <td>1</td>\n",
       "      <td>Desktop</td>\n",
       "      <td>Location 2</td>\n",
       "    </tr>\n",
       "    <tr>\n",
       "      <th>4</th>\n",
       "      <td>5</td>\n",
       "      <td>21</td>\n",
       "      <td>3</td>\n",
       "      <td>25.948584</td>\n",
       "      <td>4</td>\n",
       "      <td>10</td>\n",
       "      <td>59.51</td>\n",
       "      <td>1</td>\n",
       "      <td>Tablet</td>\n",
       "      <td>Location 4</td>\n",
       "    </tr>\n",
       "  </tbody>\n",
       "</table>\n",
       "</div>"
      ],
      "text/plain": [
       "   userID  age  sessions  time_spent  pages_visited  cart_items  cart_value  \\\n",
       "0       1   62         3   13.295129              2          20      199.21   \n",
       "1       2   65         2   21.686405              3          21      294.82   \n",
       "2       3   18         7   17.135220              4          23      240.87   \n",
       "3       4   21         9   29.589311              8          16      183.78   \n",
       "4       5   21         3   25.948584              4          10       59.51   \n",
       "\n",
       "   checkout_status   device    location  \n",
       "0                0  Desktop  Location 1  \n",
       "1                0  Desktop  Location 3  \n",
       "2                0  Desktop  Location 4  \n",
       "3                1  Desktop  Location 2  \n",
       "4                1   Tablet  Location 4  "
      ]
     },
     "execution_count": 85,
     "metadata": {},
     "output_type": "execute_result"
    }
   ],
   "source": [
    "import pandas as pd\n",
    "import numpy as np\n",
    "import matplotlib.pyplot as plt\n",
    "import seaborn as sns \n",
    "from scipy import stats\n",
    "#from sklearn.decomposition import PCA\n",
    "#from sklearn.preprocessing import StandardScaler\n",
    "\n",
    "df = pd.read_csv('midterm_data.csv')\n",
    "df.head()"
   ]
  },
  {
   "cell_type": "code",
   "execution_count": 86,
   "metadata": {},
   "outputs": [
    {
     "data": {
      "text/html": [
       "<div>\n",
       "<style scoped>\n",
       "    .dataframe tbody tr th:only-of-type {\n",
       "        vertical-align: middle;\n",
       "    }\n",
       "\n",
       "    .dataframe tbody tr th {\n",
       "        vertical-align: top;\n",
       "    }\n",
       "\n",
       "    .dataframe thead th {\n",
       "        text-align: right;\n",
       "    }\n",
       "</style>\n",
       "<table border=\"1\" class=\"dataframe\">\n",
       "  <thead>\n",
       "    <tr style=\"text-align: right;\">\n",
       "      <th></th>\n",
       "      <th>userID</th>\n",
       "      <th>age</th>\n",
       "      <th>sessions</th>\n",
       "      <th>time_spent</th>\n",
       "      <th>pages_visited</th>\n",
       "      <th>cart_items</th>\n",
       "      <th>cart_value</th>\n",
       "      <th>checkout_status</th>\n",
       "      <th>device</th>\n",
       "      <th>location</th>\n",
       "    </tr>\n",
       "  </thead>\n",
       "  <tbody>\n",
       "    <tr>\n",
       "      <th>count</th>\n",
       "      <td>5000.000000</td>\n",
       "      <td>5000.000000</td>\n",
       "      <td>5000.000000</td>\n",
       "      <td>5000.000000</td>\n",
       "      <td>5000.000000</td>\n",
       "      <td>5000.000000</td>\n",
       "      <td>5000.000000</td>\n",
       "      <td>5000.000000</td>\n",
       "      <td>4900</td>\n",
       "      <td>4970</td>\n",
       "    </tr>\n",
       "    <tr>\n",
       "      <th>unique</th>\n",
       "      <td>NaN</td>\n",
       "      <td>NaN</td>\n",
       "      <td>NaN</td>\n",
       "      <td>NaN</td>\n",
       "      <td>NaN</td>\n",
       "      <td>NaN</td>\n",
       "      <td>NaN</td>\n",
       "      <td>NaN</td>\n",
       "      <td>3</td>\n",
       "      <td>5</td>\n",
       "    </tr>\n",
       "    <tr>\n",
       "      <th>top</th>\n",
       "      <td>NaN</td>\n",
       "      <td>NaN</td>\n",
       "      <td>NaN</td>\n",
       "      <td>NaN</td>\n",
       "      <td>NaN</td>\n",
       "      <td>NaN</td>\n",
       "      <td>NaN</td>\n",
       "      <td>NaN</td>\n",
       "      <td>Desktop</td>\n",
       "      <td>Location 4</td>\n",
       "    </tr>\n",
       "    <tr>\n",
       "      <th>freq</th>\n",
       "      <td>NaN</td>\n",
       "      <td>NaN</td>\n",
       "      <td>NaN</td>\n",
       "      <td>NaN</td>\n",
       "      <td>NaN</td>\n",
       "      <td>NaN</td>\n",
       "      <td>NaN</td>\n",
       "      <td>NaN</td>\n",
       "      <td>2538</td>\n",
       "      <td>1056</td>\n",
       "    </tr>\n",
       "    <tr>\n",
       "      <th>mean</th>\n",
       "      <td>2500.500000</td>\n",
       "      <td>41.538200</td>\n",
       "      <td>5.027200</td>\n",
       "      <td>25.158496</td>\n",
       "      <td>5.774400</td>\n",
       "      <td>14.966400</td>\n",
       "      <td>149.443146</td>\n",
       "      <td>0.272400</td>\n",
       "      <td>NaN</td>\n",
       "      <td>NaN</td>\n",
       "    </tr>\n",
       "    <tr>\n",
       "      <th>std</th>\n",
       "      <td>1443.520003</td>\n",
       "      <td>14.042734</td>\n",
       "      <td>2.594958</td>\n",
       "      <td>9.825536</td>\n",
       "      <td>2.570842</td>\n",
       "      <td>6.046336</td>\n",
       "      <td>68.711683</td>\n",
       "      <td>0.445239</td>\n",
       "      <td>NaN</td>\n",
       "      <td>NaN</td>\n",
       "    </tr>\n",
       "    <tr>\n",
       "      <th>min</th>\n",
       "      <td>1.000000</td>\n",
       "      <td>18.000000</td>\n",
       "      <td>1.000000</td>\n",
       "      <td>1.000000</td>\n",
       "      <td>1.000000</td>\n",
       "      <td>5.000000</td>\n",
       "      <td>20.410000</td>\n",
       "      <td>0.000000</td>\n",
       "      <td>NaN</td>\n",
       "      <td>NaN</td>\n",
       "    </tr>\n",
       "    <tr>\n",
       "      <th>25%</th>\n",
       "      <td>1250.750000</td>\n",
       "      <td>29.000000</td>\n",
       "      <td>3.000000</td>\n",
       "      <td>18.268862</td>\n",
       "      <td>4.000000</td>\n",
       "      <td>10.000000</td>\n",
       "      <td>92.482500</td>\n",
       "      <td>0.000000</td>\n",
       "      <td>NaN</td>\n",
       "      <td>NaN</td>\n",
       "    </tr>\n",
       "    <tr>\n",
       "      <th>50%</th>\n",
       "      <td>2500.500000</td>\n",
       "      <td>42.000000</td>\n",
       "      <td>5.000000</td>\n",
       "      <td>25.035361</td>\n",
       "      <td>6.000000</td>\n",
       "      <td>15.000000</td>\n",
       "      <td>143.440000</td>\n",
       "      <td>0.000000</td>\n",
       "      <td>NaN</td>\n",
       "      <td>NaN</td>\n",
       "    </tr>\n",
       "    <tr>\n",
       "      <th>75%</th>\n",
       "      <td>3750.250000</td>\n",
       "      <td>54.000000</td>\n",
       "      <td>7.000000</td>\n",
       "      <td>32.000361</td>\n",
       "      <td>8.000000</td>\n",
       "      <td>20.000000</td>\n",
       "      <td>198.380000</td>\n",
       "      <td>1.000000</td>\n",
       "      <td>NaN</td>\n",
       "      <td>NaN</td>\n",
       "    </tr>\n",
       "    <tr>\n",
       "      <th>max</th>\n",
       "      <td>5000.000000</td>\n",
       "      <td>65.000000</td>\n",
       "      <td>9.000000</td>\n",
       "      <td>90.000000</td>\n",
       "      <td>12.000000</td>\n",
       "      <td>25.000000</td>\n",
       "      <td>427.400000</td>\n",
       "      <td>1.000000</td>\n",
       "      <td>NaN</td>\n",
       "      <td>NaN</td>\n",
       "    </tr>\n",
       "  </tbody>\n",
       "</table>\n",
       "</div>"
      ],
      "text/plain": [
       "             userID          age     sessions   time_spent  pages_visited  \\\n",
       "count   5000.000000  5000.000000  5000.000000  5000.000000    5000.000000   \n",
       "unique          NaN          NaN          NaN          NaN            NaN   \n",
       "top             NaN          NaN          NaN          NaN            NaN   \n",
       "freq            NaN          NaN          NaN          NaN            NaN   \n",
       "mean    2500.500000    41.538200     5.027200    25.158496       5.774400   \n",
       "std     1443.520003    14.042734     2.594958     9.825536       2.570842   \n",
       "min        1.000000    18.000000     1.000000     1.000000       1.000000   \n",
       "25%     1250.750000    29.000000     3.000000    18.268862       4.000000   \n",
       "50%     2500.500000    42.000000     5.000000    25.035361       6.000000   \n",
       "75%     3750.250000    54.000000     7.000000    32.000361       8.000000   \n",
       "max     5000.000000    65.000000     9.000000    90.000000      12.000000   \n",
       "\n",
       "         cart_items   cart_value  checkout_status   device    location  \n",
       "count   5000.000000  5000.000000      5000.000000     4900        4970  \n",
       "unique          NaN          NaN              NaN        3           5  \n",
       "top             NaN          NaN              NaN  Desktop  Location 4  \n",
       "freq            NaN          NaN              NaN     2538        1056  \n",
       "mean      14.966400   149.443146         0.272400      NaN         NaN  \n",
       "std        6.046336    68.711683         0.445239      NaN         NaN  \n",
       "min        5.000000    20.410000         0.000000      NaN         NaN  \n",
       "25%       10.000000    92.482500         0.000000      NaN         NaN  \n",
       "50%       15.000000   143.440000         0.000000      NaN         NaN  \n",
       "75%       20.000000   198.380000         1.000000      NaN         NaN  \n",
       "max       25.000000   427.400000         1.000000      NaN         NaN  "
      ]
     },
     "execution_count": 86,
     "metadata": {},
     "output_type": "execute_result"
    }
   ],
   "source": [
    "df.describe(include='all')"
   ]
  },
  {
   "attachments": {},
   "cell_type": "markdown",
   "metadata": {},
   "source": [
    "Data Cleaning"
   ]
  },
  {
   "cell_type": "code",
   "execution_count": 87,
   "metadata": {},
   "outputs": [
    {
     "name": "stdout",
     "output_type": "stream",
     "text": [
      "['userID', 'age', 'sessions', 'time_spent', 'pages_visited', 'cart_items', 'cart_value', 'checkout_status', 'device', 'location']\n"
     ]
    }
   ],
   "source": [
    "col = list(df.columns)\n",
    "print(col)"
   ]
  },
  {
   "cell_type": "code",
   "execution_count": 88,
   "metadata": {},
   "outputs": [
    {
     "data": {
      "text/plain": [
       "userID             0.000\n",
       "age                0.000\n",
       "sessions           0.000\n",
       "time_spent         0.000\n",
       "pages_visited      0.000\n",
       "cart_items         0.000\n",
       "cart_value         0.000\n",
       "checkout_status    0.000\n",
       "device             0.020\n",
       "location           0.006\n",
       "dtype: float64"
      ]
     },
     "execution_count": 88,
     "metadata": {},
     "output_type": "execute_result"
    }
   ],
   "source": [
    "df.isna().mean()"
   ]
  },
  {
   "attachments": {},
   "cell_type": "markdown",
   "metadata": {},
   "source": [
    "As missing values are less than 10% for device and location, both observation types can be dropped from the analysis. "
   ]
  },
  {
   "cell_type": "code",
   "execution_count": 89,
   "metadata": {},
   "outputs": [
    {
     "data": {
      "text/plain": [
       "userID             0.0\n",
       "age                0.0\n",
       "sessions           0.0\n",
       "time_spent         0.0\n",
       "pages_visited      0.0\n",
       "cart_items         0.0\n",
       "cart_value         0.0\n",
       "checkout_status    0.0\n",
       "device             0.0\n",
       "location           0.0\n",
       "dtype: float64"
      ]
     },
     "execution_count": 89,
     "metadata": {},
     "output_type": "execute_result"
    }
   ],
   "source": [
    "df = df.dropna(subset=['device', 'location'])\n",
    "df.isna().mean()"
   ]
  },
  {
   "cell_type": "code",
   "execution_count": 90,
   "metadata": {},
   "outputs": [
    {
     "name": "stdout",
     "output_type": "stream",
     "text": [
      "<class 'pandas.core.frame.DataFrame'>\n",
      "Int64Index: 4871 entries, 0 to 4999\n",
      "Data columns (total 10 columns):\n",
      " #   Column           Non-Null Count  Dtype  \n",
      "---  ------           --------------  -----  \n",
      " 0   userID           4871 non-null   int64  \n",
      " 1   age              4871 non-null   int64  \n",
      " 2   sessions         4871 non-null   int64  \n",
      " 3   time_spent       4871 non-null   float64\n",
      " 4   pages_visited    4871 non-null   int64  \n",
      " 5   cart_items       4871 non-null   int64  \n",
      " 6   cart_value       4871 non-null   float64\n",
      " 7   checkout_status  4871 non-null   int64  \n",
      " 8   device           4871 non-null   object \n",
      " 9   location         4871 non-null   object \n",
      "dtypes: float64(2), int64(6), object(2)\n",
      "memory usage: 418.6+ KB\n"
     ]
    }
   ],
   "source": [
    "df.info()"
   ]
  },
  {
   "attachments": {},
   "cell_type": "markdown",
   "metadata": {},
   "source": [
    "4871 entries remain. A combined total of approx. 2.6% of the observations were dropped by jointly dropping device and location empties. Let's re-run some descriptive statistics. "
   ]
  },
  {
   "cell_type": "code",
   "execution_count": 91,
   "metadata": {},
   "outputs": [
    {
     "data": {
      "text/html": [
       "<div>\n",
       "<style scoped>\n",
       "    .dataframe tbody tr th:only-of-type {\n",
       "        vertical-align: middle;\n",
       "    }\n",
       "\n",
       "    .dataframe tbody tr th {\n",
       "        vertical-align: top;\n",
       "    }\n",
       "\n",
       "    .dataframe thead th {\n",
       "        text-align: right;\n",
       "    }\n",
       "</style>\n",
       "<table border=\"1\" class=\"dataframe\">\n",
       "  <thead>\n",
       "    <tr style=\"text-align: right;\">\n",
       "      <th></th>\n",
       "      <th>userID</th>\n",
       "      <th>age</th>\n",
       "      <th>sessions</th>\n",
       "      <th>time_spent</th>\n",
       "      <th>pages_visited</th>\n",
       "      <th>cart_items</th>\n",
       "      <th>cart_value</th>\n",
       "      <th>checkout_status</th>\n",
       "      <th>device</th>\n",
       "      <th>location</th>\n",
       "    </tr>\n",
       "  </thead>\n",
       "  <tbody>\n",
       "    <tr>\n",
       "      <th>count</th>\n",
       "      <td>4871.000000</td>\n",
       "      <td>4871.00000</td>\n",
       "      <td>4871.000000</td>\n",
       "      <td>4871.000000</td>\n",
       "      <td>4871.000000</td>\n",
       "      <td>4871.000000</td>\n",
       "      <td>4871.000000</td>\n",
       "      <td>4871.000000</td>\n",
       "      <td>4871</td>\n",
       "      <td>4871</td>\n",
       "    </tr>\n",
       "    <tr>\n",
       "      <th>unique</th>\n",
       "      <td>NaN</td>\n",
       "      <td>NaN</td>\n",
       "      <td>NaN</td>\n",
       "      <td>NaN</td>\n",
       "      <td>NaN</td>\n",
       "      <td>NaN</td>\n",
       "      <td>NaN</td>\n",
       "      <td>NaN</td>\n",
       "      <td>3</td>\n",
       "      <td>5</td>\n",
       "    </tr>\n",
       "    <tr>\n",
       "      <th>top</th>\n",
       "      <td>NaN</td>\n",
       "      <td>NaN</td>\n",
       "      <td>NaN</td>\n",
       "      <td>NaN</td>\n",
       "      <td>NaN</td>\n",
       "      <td>NaN</td>\n",
       "      <td>NaN</td>\n",
       "      <td>NaN</td>\n",
       "      <td>Desktop</td>\n",
       "      <td>Location 4</td>\n",
       "    </tr>\n",
       "    <tr>\n",
       "      <th>freq</th>\n",
       "      <td>NaN</td>\n",
       "      <td>NaN</td>\n",
       "      <td>NaN</td>\n",
       "      <td>NaN</td>\n",
       "      <td>NaN</td>\n",
       "      <td>NaN</td>\n",
       "      <td>NaN</td>\n",
       "      <td>NaN</td>\n",
       "      <td>2522</td>\n",
       "      <td>1028</td>\n",
       "    </tr>\n",
       "    <tr>\n",
       "      <th>mean</th>\n",
       "      <td>2503.251488</td>\n",
       "      <td>41.53295</td>\n",
       "      <td>5.023609</td>\n",
       "      <td>25.172038</td>\n",
       "      <td>5.777458</td>\n",
       "      <td>14.971258</td>\n",
       "      <td>149.459444</td>\n",
       "      <td>0.273455</td>\n",
       "      <td>NaN</td>\n",
       "      <td>NaN</td>\n",
       "    </tr>\n",
       "    <tr>\n",
       "      <th>std</th>\n",
       "      <td>1445.707937</td>\n",
       "      <td>14.04452</td>\n",
       "      <td>2.589914</td>\n",
       "      <td>9.821864</td>\n",
       "      <td>2.566198</td>\n",
       "      <td>6.054916</td>\n",
       "      <td>68.811486</td>\n",
       "      <td>0.445778</td>\n",
       "      <td>NaN</td>\n",
       "      <td>NaN</td>\n",
       "    </tr>\n",
       "    <tr>\n",
       "      <th>min</th>\n",
       "      <td>1.000000</td>\n",
       "      <td>18.00000</td>\n",
       "      <td>1.000000</td>\n",
       "      <td>1.000000</td>\n",
       "      <td>1.000000</td>\n",
       "      <td>5.000000</td>\n",
       "      <td>20.410000</td>\n",
       "      <td>0.000000</td>\n",
       "      <td>NaN</td>\n",
       "      <td>NaN</td>\n",
       "    </tr>\n",
       "    <tr>\n",
       "      <th>25%</th>\n",
       "      <td>1251.500000</td>\n",
       "      <td>29.00000</td>\n",
       "      <td>3.000000</td>\n",
       "      <td>18.298029</td>\n",
       "      <td>4.000000</td>\n",
       "      <td>10.000000</td>\n",
       "      <td>92.415000</td>\n",
       "      <td>0.000000</td>\n",
       "      <td>NaN</td>\n",
       "      <td>NaN</td>\n",
       "    </tr>\n",
       "    <tr>\n",
       "      <th>50%</th>\n",
       "      <td>2505.000000</td>\n",
       "      <td>42.00000</td>\n",
       "      <td>5.000000</td>\n",
       "      <td>25.054759</td>\n",
       "      <td>6.000000</td>\n",
       "      <td>15.000000</td>\n",
       "      <td>143.020000</td>\n",
       "      <td>0.000000</td>\n",
       "      <td>NaN</td>\n",
       "      <td>NaN</td>\n",
       "    </tr>\n",
       "    <tr>\n",
       "      <th>75%</th>\n",
       "      <td>3760.500000</td>\n",
       "      <td>54.00000</td>\n",
       "      <td>7.000000</td>\n",
       "      <td>31.991099</td>\n",
       "      <td>8.000000</td>\n",
       "      <td>20.000000</td>\n",
       "      <td>198.550000</td>\n",
       "      <td>1.000000</td>\n",
       "      <td>NaN</td>\n",
       "      <td>NaN</td>\n",
       "    </tr>\n",
       "    <tr>\n",
       "      <th>max</th>\n",
       "      <td>5000.000000</td>\n",
       "      <td>65.00000</td>\n",
       "      <td>9.000000</td>\n",
       "      <td>90.000000</td>\n",
       "      <td>12.000000</td>\n",
       "      <td>25.000000</td>\n",
       "      <td>427.400000</td>\n",
       "      <td>1.000000</td>\n",
       "      <td>NaN</td>\n",
       "      <td>NaN</td>\n",
       "    </tr>\n",
       "  </tbody>\n",
       "</table>\n",
       "</div>"
      ],
      "text/plain": [
       "             userID         age     sessions   time_spent  pages_visited  \\\n",
       "count   4871.000000  4871.00000  4871.000000  4871.000000    4871.000000   \n",
       "unique          NaN         NaN          NaN          NaN            NaN   \n",
       "top             NaN         NaN          NaN          NaN            NaN   \n",
       "freq            NaN         NaN          NaN          NaN            NaN   \n",
       "mean    2503.251488    41.53295     5.023609    25.172038       5.777458   \n",
       "std     1445.707937    14.04452     2.589914     9.821864       2.566198   \n",
       "min        1.000000    18.00000     1.000000     1.000000       1.000000   \n",
       "25%     1251.500000    29.00000     3.000000    18.298029       4.000000   \n",
       "50%     2505.000000    42.00000     5.000000    25.054759       6.000000   \n",
       "75%     3760.500000    54.00000     7.000000    31.991099       8.000000   \n",
       "max     5000.000000    65.00000     9.000000    90.000000      12.000000   \n",
       "\n",
       "         cart_items   cart_value  checkout_status   device    location  \n",
       "count   4871.000000  4871.000000      4871.000000     4871        4871  \n",
       "unique          NaN          NaN              NaN        3           5  \n",
       "top             NaN          NaN              NaN  Desktop  Location 4  \n",
       "freq            NaN          NaN              NaN     2522        1028  \n",
       "mean      14.971258   149.459444         0.273455      NaN         NaN  \n",
       "std        6.054916    68.811486         0.445778      NaN         NaN  \n",
       "min        5.000000    20.410000         0.000000      NaN         NaN  \n",
       "25%       10.000000    92.415000         0.000000      NaN         NaN  \n",
       "50%       15.000000   143.020000         0.000000      NaN         NaN  \n",
       "75%       20.000000   198.550000         1.000000      NaN         NaN  \n",
       "max       25.000000   427.400000         1.000000      NaN         NaN  "
      ]
     },
     "execution_count": 91,
     "metadata": {},
     "output_type": "execute_result"
    }
   ],
   "source": [
    "df.describe(include='all')"
   ]
  },
  {
   "attachments": {},
   "cell_type": "markdown",
   "metadata": {},
   "source": [
    "From the data, we see: the mean age is 41.5 that is in-line with median of 42. Similarly, variables such as sessions, time_spent, pages_visited, cart_items and cart value have means which compare to their respective medians. Thus, the skew caused by outliers for these parameters is low. Given that the skew caused on measures of center is low, the outliers are maintained as relavant to analysis as they may present some of our best (and most indecisive) shoppers.\n",
    "\n",
    "Lastly, we note that checkout status has a mean close of 0.273 which is reflective of the problem statement. Let's begin to assess for behavioural trends using graphing and groupbys. "
   ]
  },
  {
   "cell_type": "code",
   "execution_count": 92,
   "metadata": {},
   "outputs": [
    {
     "data": {
      "image/png": "[encoded data removed]",
      "text/plain": [
       "<Figure size 623.611x500 with 1 Axes>"
      ]
     },
     "metadata": {},
     "output_type": "display_data"
    }
   ],
   "source": [
    "sns.catplot(x='sessions', hue='checkout_status', data=df, kind='count')\n",
    "plt.show()"
   ]
  },
  {
   "attachments": {},
   "cell_type": "markdown",
   "metadata": {},
   "source": [
    "With an increase in the number of sessions, we see that the number of purchases remains fairly constant. Let's use Pearson's correlation matrix to determine the signficant linear correlations to assess which parameters have the largest direct effect on checkout_status. "
   ]
  },
  {
   "cell_type": "code",
   "execution_count": 93,
   "metadata": {},
   "outputs": [
    {
     "data": {
      "text/html": [
       "<div>\n",
       "<style scoped>\n",
       "    .dataframe tbody tr th:only-of-type {\n",
       "        vertical-align: middle;\n",
       "    }\n",
       "\n",
       "    .dataframe tbody tr th {\n",
       "        vertical-align: top;\n",
       "    }\n",
       "\n",
       "    .dataframe thead th {\n",
       "        text-align: right;\n",
       "    }\n",
       "</style>\n",
       "<table border=\"1\" class=\"dataframe\">\n",
       "  <thead>\n",
       "    <tr style=\"text-align: right;\">\n",
       "      <th></th>\n",
       "      <th>userID</th>\n",
       "      <th>age</th>\n",
       "      <th>sessions</th>\n",
       "      <th>time_spent</th>\n",
       "      <th>pages_visited</th>\n",
       "      <th>cart_items</th>\n",
       "      <th>cart_value</th>\n",
       "      <th>checkout_status</th>\n",
       "    </tr>\n",
       "  </thead>\n",
       "  <tbody>\n",
       "    <tr>\n",
       "      <th>userID</th>\n",
       "      <td>1.000000</td>\n",
       "      <td>0.009744</td>\n",
       "      <td>0.035118</td>\n",
       "      <td>-0.002762</td>\n",
       "      <td>0.013663</td>\n",
       "      <td>-0.005945</td>\n",
       "      <td>-0.007728</td>\n",
       "      <td>-0.013876</td>\n",
       "    </tr>\n",
       "    <tr>\n",
       "      <th>age</th>\n",
       "      <td>0.009744</td>\n",
       "      <td>1.000000</td>\n",
       "      <td>0.020722</td>\n",
       "      <td>-0.019453</td>\n",
       "      <td>-0.021942</td>\n",
       "      <td>-0.002114</td>\n",
       "      <td>-0.001506</td>\n",
       "      <td>-0.013017</td>\n",
       "    </tr>\n",
       "    <tr>\n",
       "      <th>sessions</th>\n",
       "      <td>0.035118</td>\n",
       "      <td>0.020722</td>\n",
       "      <td>1.000000</td>\n",
       "      <td>-0.017793</td>\n",
       "      <td>-0.008571</td>\n",
       "      <td>-0.023971</td>\n",
       "      <td>-0.027667</td>\n",
       "      <td>-0.019821</td>\n",
       "    </tr>\n",
       "    <tr>\n",
       "      <th>time_spent</th>\n",
       "      <td>-0.002762</td>\n",
       "      <td>-0.019453</td>\n",
       "      <td>-0.017793</td>\n",
       "      <td>1.000000</td>\n",
       "      <td>0.911349</td>\n",
       "      <td>-0.007222</td>\n",
       "      <td>-0.004456</td>\n",
       "      <td>0.383940</td>\n",
       "    </tr>\n",
       "    <tr>\n",
       "      <th>pages_visited</th>\n",
       "      <td>0.013663</td>\n",
       "      <td>-0.021942</td>\n",
       "      <td>-0.008571</td>\n",
       "      <td>0.911349</td>\n",
       "      <td>1.000000</td>\n",
       "      <td>-0.009649</td>\n",
       "      <td>-0.009155</td>\n",
       "      <td>0.361587</td>\n",
       "    </tr>\n",
       "    <tr>\n",
       "      <th>cart_items</th>\n",
       "      <td>-0.005945</td>\n",
       "      <td>-0.002114</td>\n",
       "      <td>-0.023971</td>\n",
       "      <td>-0.007222</td>\n",
       "      <td>-0.009649</td>\n",
       "      <td>1.000000</td>\n",
       "      <td>0.877359</td>\n",
       "      <td>-0.088606</td>\n",
       "    </tr>\n",
       "    <tr>\n",
       "      <th>cart_value</th>\n",
       "      <td>-0.007728</td>\n",
       "      <td>-0.001506</td>\n",
       "      <td>-0.027667</td>\n",
       "      <td>-0.004456</td>\n",
       "      <td>-0.009155</td>\n",
       "      <td>0.877359</td>\n",
       "      <td>1.000000</td>\n",
       "      <td>-0.079790</td>\n",
       "    </tr>\n",
       "    <tr>\n",
       "      <th>checkout_status</th>\n",
       "      <td>-0.013876</td>\n",
       "      <td>-0.013017</td>\n",
       "      <td>-0.019821</td>\n",
       "      <td>0.383940</td>\n",
       "      <td>0.361587</td>\n",
       "      <td>-0.088606</td>\n",
       "      <td>-0.079790</td>\n",
       "      <td>1.000000</td>\n",
       "    </tr>\n",
       "  </tbody>\n",
       "</table>\n",
       "</div>"
      ],
      "text/plain": [
       "                   userID       age  sessions  time_spent  pages_visited  \\\n",
       "userID           1.000000  0.009744  0.035118   -0.002762       0.013663   \n",
       "age              0.009744  1.000000  0.020722   -0.019453      -0.021942   \n",
       "sessions         0.035118  0.020722  1.000000   -0.017793      -0.008571   \n",
       "time_spent      -0.002762 -0.019453 -0.017793    1.000000       0.911349   \n",
       "pages_visited    0.013663 -0.021942 -0.008571    0.911349       1.000000   \n",
       "cart_items      -0.005945 -0.002114 -0.023971   -0.007222      -0.009649   \n",
       "cart_value      -0.007728 -0.001506 -0.027667   -0.004456      -0.009155   \n",
       "checkout_status -0.013876 -0.013017 -0.019821    0.383940       0.361587   \n",
       "\n",
       "                 cart_items  cart_value  checkout_status  \n",
       "userID            -0.005945   -0.007728        -0.013876  \n",
       "age               -0.002114   -0.001506        -0.013017  \n",
       "sessions          -0.023971   -0.027667        -0.019821  \n",
       "time_spent        -0.007222   -0.004456         0.383940  \n",
       "pages_visited     -0.009649   -0.009155         0.361587  \n",
       "cart_items         1.000000    0.877359        -0.088606  \n",
       "cart_value         0.877359    1.000000        -0.079790  \n",
       "checkout_status   -0.088606   -0.079790         1.000000  "
      ]
     },
     "execution_count": 93,
     "metadata": {},
     "output_type": "execute_result"
    }
   ],
   "source": [
    "df.corr(numeric_only=True)"
   ]
  },
  {
   "attachments": {},
   "cell_type": "markdown",
   "metadata": {},
   "source": [
    "In terms of linear relationships, we see the most significant positive correlation between time_spent and pages_visits and the target variable checkout_status. These variables appear to be highly colinear. We will explore the effects of these variables first. \n",
    "\n",
    "Some other insights: \n",
    "- Cart value is only slightly negatively correlated to checkout_status. This means that the more expensive a user's cart is, the the user is on-average abandoning the cart.\n",
    "- Cart items and cart value are highly co-linear which is in accordance our expectations i.e. as the number of cart items increase, so to does the cost. "
   ]
  },
  {
   "cell_type": "code",
   "execution_count": 94,
   "metadata": {},
   "outputs": [
    {
     "data": {
      "image/png": "[encoded data removed]",
      "text/plain": [
       "<Figure size 623.611x500 with 1 Axes>"
      ]
     },
     "metadata": {},
     "output_type": "display_data"
    }
   ],
   "source": [
    "sns.lmplot(x='pages_visited', y='time_spent', hue='checkout_status', data=df)\n",
    "plt.show()"
   ]
  },
  {
   "attachments": {},
   "cell_type": "markdown",
   "metadata": {},
   "source": [
    "We do see the presence of a few outliers in the data. There is one user who spent an abnormal amount of time browsing and did not purchase. Similarly, there is a user who visited only 2 pages and purchased relatively quickly. We will locate and assess those users. "
   ]
  },
  {
   "cell_type": "code",
   "execution_count": 95,
   "metadata": {},
   "outputs": [
    {
     "name": "stdout",
     "output_type": "stream",
     "text": [
      "Purchased Average Time Spent: 31.32 minutes\n",
      "Abandoned Average Time Spent: 22.86 minutes\n"
     ]
    }
   ],
   "source": [
    "purchased_t = df[df['checkout_status'] == 1]['time_spent']\n",
    "passed_t = df[df['checkout_status'] == 0]['time_spent']\n",
    "\n",
    "print('Purchased Average Time Spent:', round(purchased_t.mean(),2), 'minutes')\n",
    "print('Abandoned Average Time Spent:', round(passed_t.mean(),2), 'minutes')"
   ]
  },
  {
   "cell_type": "code",
   "execution_count": 96,
   "metadata": {},
   "outputs": [
    {
     "name": "stdout",
     "output_type": "stream",
     "text": [
      "T-statistic: 29.01437884807354\n",
      "P-value: 7.252646363809769e-171\n"
     ]
    }
   ],
   "source": [
    "t_stat, p_val = stats.ttest_ind(purchased_t, passed_t)\n",
    "print(f\"T-statistic: {t_stat}\")\n",
    "print(f\"P-value: {p_val}\")"
   ]
  },
  {
   "attachments": {},
   "cell_type": "markdown",
   "metadata": {},
   "source": [
    "We see that the average time spent for a user who purchased is 31.32 minutes which is higher than the average time spent for a user who did not purchase 22.86 min. As the p-value is less than 0.05, we see that the means are significantly different at the 95% confidence interval. Let's repeat for pages visited."
   ]
  },
  {
   "cell_type": "code",
   "execution_count": 97,
   "metadata": {},
   "outputs": [
    {
     "name": "stdout",
     "output_type": "stream",
     "text": [
      "Purchased Average Pages Viewed: 7.29 pages\n",
      "Passed Average Pages View 5.21 pages\n"
     ]
    }
   ],
   "source": [
    "purchased_pv = df[df['checkout_status'] == 1]['pages_visited']\n",
    "passed_pv = df[df['checkout_status'] == 0]['pages_visited']\n",
    "\n",
    "print('Purchased Average Pages Viewed:', round(purchased_pv.mean(),2), 'pages')\n",
    "print('Passed Average Pages View', round(passed_pv.mean(),2), 'pages')"
   ]
  },
  {
   "cell_type": "code",
   "execution_count": 98,
   "metadata": {},
   "outputs": [
    {
     "name": "stdout",
     "output_type": "stream",
     "text": [
      "T-statistic: 27.061980794784017\n",
      "P-value: 2.253044494394405e-150\n"
     ]
    }
   ],
   "source": [
    "t_stat, p_val = stats.ttest_ind(purchased_pv, passed_pv)\n",
    "print(f\"T-statistic: {t_stat}\")\n",
    "print(f\"P-value: {p_val}\")"
   ]
  },
  {
   "attachments": {},
   "cell_type": "markdown",
   "metadata": {},
   "source": [
    "We see that the average pages viewed for a user who purchased is 7.29 pages which is higher than the average pages viewed for a user who did not purchase (5.21). As the p-value is less than 0.05, we see that the means are significantly different at the 95% confidence interval."
   ]
  },
  {
   "cell_type": "code",
   "execution_count": 202,
   "metadata": {},
   "outputs": [
    {
     "name": "stdout",
     "output_type": "stream",
     "text": [
      "Purchased Average Cart Value: $ 140.51\n",
      "Passed Average Cart View: $ 152.83\n",
      "% Difference: -0.08\n"
     ]
    }
   ],
   "source": [
    "purchased_cv = df[df['checkout_status'] == 1]['cart_value']\n",
    "passed_cv = df[df['checkout_status'] == 0]['cart_value']\n",
    "\n",
    "mean_purchased_cv = purchased_cv.mean()\n",
    "mean_passed_cv = passed_cv.mean()\n",
    "\n",
    "print('Purchased Average Cart Value: $', round(mean_purchased_cv,2))\n",
    "print('Passed Average Cart View: $', round(passed_pv.mean(),2))\n",
    "print('% Difference:', round((mean_purchased_cv-mean_passed_cv)/mean_passed_cv, 2))\n"
   ]
  },
  {
   "attachments": {},
   "cell_type": "markdown",
   "metadata": {},
   "source": [
    "As we saw in the correlation matrix, there is a 8% differenced in the average cart value between the two groups. Below we confirm that the difference in the means is statistically signficant at the 95% confidence interval. "
   ]
  },
  {
   "cell_type": "code",
   "execution_count": 203,
   "metadata": {},
   "outputs": [
    {
     "name": "stdout",
     "output_type": "stream",
     "text": [
      "T-statistic: -5.58542237803329\n",
      "P-value: 2.4580059099364027e-08\n"
     ]
    }
   ],
   "source": [
    "t_stat, p_val = stats.ttest_ind(purchased_cv, passed_cv)\n",
    "print(f\"T-statistic: {t_stat}\")\n",
    "print(f\"P-value: {p_val}\")"
   ]
  },
  {
   "attachments": {},
   "cell_type": "markdown",
   "metadata": {},
   "source": [
    "The Pearson's matrix helped us assess the correlation between numerical variables but we must also assess trends in the categorical variables. "
   ]
  },
  {
   "cell_type": "code",
   "execution_count": 204,
   "metadata": {},
   "outputs": [
    {
     "data": {
      "image/png": "[encoded data removed]",
      "text/plain": [
       "<Figure size 623.611x500 with 1 Axes>"
      ]
     },
     "metadata": {},
     "output_type": "display_data"
    }
   ],
   "source": [
    "# To ensure the correct interpretation of the Pearson's matrix, \n",
    "# let's visually assess the effect on age on the checkout status.\n",
    "sns.catplot(x='location', hue='checkout_status', data=df, kind='count')\n",
    "plt.show()"
   ]
  },
  {
   "cell_type": "code",
   "execution_count": 205,
   "metadata": {},
   "outputs": [
    {
     "name": "stdout",
     "output_type": "stream",
     "text": [
      "Chi-squared: 1.2726182220920996\n",
      "P-value: 0.8660038302302356\n"
     ]
    }
   ],
   "source": [
    "contingency_table = pd.crosstab(df['checkout_status'], df['location'])\n",
    "\n",
    "chi2, p_val, dof, expected = stats.chi2_contingency(contingency_table)\n",
    "\n",
    "print(f\"Chi-squared: {chi2}\")\n",
    "print(f\"P-value: {p_val}\")"
   ]
  },
  {
   "attachments": {},
   "cell_type": "markdown",
   "metadata": {},
   "source": [
    "In line with the graph, we see no real statistically signficant trends for purchasers from a particular location. Check to see if there is signficant value:"
   ]
  },
  {
   "cell_type": "code",
   "execution_count": 206,
   "metadata": {},
   "outputs": [
    {
     "data": {
      "image/png": "[encoded data removed]",
      "text/plain": [
       "<Figure size 623.611x500 with 1 Axes>"
      ]
     },
     "metadata": {},
     "output_type": "display_data"
    }
   ],
   "source": [
    "loc_sale = df.groupby(['checkout_status', 'location'])['cart_value'].sum().reset_index()\n",
    "sns.catplot(x='location', y = 'cart_value', hue='checkout_status', data=loc_sale, kind='bar')\n",
    "plt.show()"
   ]
  },
  {
   "cell_type": "code",
   "execution_count": 207,
   "metadata": {},
   "outputs": [
    {
     "data": {
      "image/png": "[encoded data removed]",
      "text/plain": [
       "<Figure size 623.611x500 with 1 Axes>"
      ]
     },
     "metadata": {},
     "output_type": "display_data"
    }
   ],
   "source": [
    "dev_sale = df.groupby(['checkout_status', 'device'])['cart_value'].sum().reset_index()\n",
    "sns.catplot(x='device', y = 'cart_value', hue='checkout_status', data=dev_sale, kind='bar')\n",
    "plt.show()"
   ]
  },
  {
   "cell_type": "code",
   "execution_count": 208,
   "metadata": {},
   "outputs": [
    {
     "name": "stdout",
     "output_type": "stream",
     "text": [
      "Chi-squared: 4.019064161843586\n",
      "P-value: 0.13405138519652812\n"
     ]
    }
   ],
   "source": [
    "contingency_table = pd.crosstab(df['checkout_status'], df['device'])\n",
    "\n",
    "chi2, p_val, dof, expected = stats.chi2_contingency(contingency_table)\n",
    "\n",
    "print(f\"Chi-squared: {chi2}\")\n",
    "print(f\"P-value: {p_val}\")"
   ]
  },
  {
   "attachments": {},
   "cell_type": "markdown",
   "metadata": {},
   "source": [
    "At a 95% confidence level, we can reject the null hypothesis that the device type has no effect on the checkout status. However, if we adjust our signficance level to 85% (as business problems are less sensitive), we see that device type has a statitically signficant effect on checkout rate at the 85%."
   ]
  },
  {
   "attachments": {},
   "cell_type": "markdown",
   "metadata": {},
   "source": [
    "For completion, let's use feature engineering to \"bucket\" the age groups to determine any demographic trends by count. "
   ]
  },
  {
   "cell_type": "code",
   "execution_count": 209,
   "metadata": {},
   "outputs": [
    {
     "name": "stdout",
     "output_type": "stream",
     "text": [
      "(55, 65]    1048\n",
      "(45, 55]     995\n",
      "(35, 45]     985\n",
      "(25, 35]     976\n",
      "(15, 25]     867\n",
      "Name: age_cat, dtype: int64\n"
     ]
    }
   ],
   "source": [
    "df['age_cat'] = pd.cut(df['age'], bins=[15, 25, 35, 45, 55, 65])\n",
    "print(df['age_cat'].value_counts())"
   ]
  },
  {
   "cell_type": "code",
   "execution_count": 210,
   "metadata": {},
   "outputs": [
    {
     "data": {
      "image/png": "[encoded data removed]",
      "text/plain": [
       "<Figure size 623.611x500 with 1 Axes>"
      ]
     },
     "metadata": {},
     "output_type": "display_data"
    }
   ],
   "source": [
    "age_sale = df.groupby(['checkout_status', 'age_cat'])['cart_value'].sum().reset_index()\n",
    "sns.catplot(x='age_cat', y = 'cart_value', hue='checkout_status', data=age_sale, kind='bar')\n",
    "plt.show()"
   ]
  },
  {
   "cell_type": "code",
   "execution_count": 211,
   "metadata": {},
   "outputs": [
    {
     "name": "stdout",
     "output_type": "stream",
     "text": [
      "Chi-squared: 4.312081748524441\n",
      "P-value: 0.36541465830145503\n"
     ]
    }
   ],
   "source": [
    "contingency_table = pd.crosstab(df['checkout_status'], df['age_cat'])\n",
    "\n",
    "chi2, p_val, dof, expected = stats.chi2_contingency(contingency_table)\n",
    "\n",
    "print(f\"Chi-squared: {chi2}\")\n",
    "print(f\"P-value: {p_val}\")"
   ]
  },
  {
   "attachments": {},
   "cell_type": "markdown",
   "metadata": {},
   "source": [
    "No statistical signficance was found between the checkout status and age bins at an acceptable confidence interval. We anticipated this from the Pearson's correlation matrix above. "
   ]
  },
  {
   "attachments": {},
   "cell_type": "markdown",
   "metadata": {},
   "source": [
    "In summary, \n",
    "\n",
    "1) Based on your analysis, what can you conclude about the behaviour or characteristics of users who complete check out vs those who do not?\n",
    "\n",
    "At a 95% level of signficance, the analysis concludes: \n",
    "- The average time spent for a user who purchased is 31.32 minutes which is higher than the average time spent for a user who did not purchase 22.86 min.\n",
    "- The average pages viewed for a user who purchased is 7.29 pages which is higher than the average pages viewed for a user who did not purchase (5.21). \n",
    "- As we saw in the correlation matrix, there is only a 8% difference in the average cart value between purchasers and non-purchasers. Non-purchasers tended to have the higher average cart value (152.83 dollars) whereas purchasers on average had a lower average cart value: $ 140.51\n",
    "- No real statistically signficant trends for purchasers from a particular location by purchase volume or value. \n",
    "- No real statistically signficant trends for purchasers by demographic data (age). In fact, age groups are relatively equal in overall value. \n",
    "\n",
    "\n",
    "At the 85% level of significant, the analysis concludes: \n",
    "- On average, desktop users are more likely to check-out than mobile or tablet users by purchase volume (omitted for brevity, not shown) and by purchase value (shown). \n",
    "\n",
    "The number of sessions was found to have little overall effect on check-out status and was not explored further. \n",
    "\n",
    "2) How did you prepare your data for analysis? Describe your data cleaning and preparation approaches, and why these were the best choices.\n",
    "\n",
    "The data was found to be relatively clean. Missing values (less than 3%) overall were dropped as total observations are numerous and less than the 10% threshold. No imputation was conducted as the missing observations pertained to variables were categorical in nature. The addition of 'unknown' would increase dimensionality and use of the mode may skew results. Given their limited representation, dropping the missing values was determined to be the best strategy. Outliers were preserved as they were found to cause little to no effect of measures of central tendency but did represent the opportunity to assess key users. \n",
    "\n",
    "3) What recommendations do you have for the product team? What should they do next? Be specific (i.e., who should they target, why and how).\n",
    "\n",
    "The product team should target users who spend on average at least 31 minutes browsing or view 7.3 pages. The product team should not aim to have users spending more than $140 per session as it is found to reduce the likelihood of checkout marginally. Lastly, desktop users are found to be more likely to purchase over other device access types and users on alternative devices should be pursuaded to switch to a desktop.  "
   ]
  },
  {
   "attachments": {},
   "cell_type": "markdown",
   "metadata": {},
   "source": []
  }
 ],
 "metadata": {
  "kernelspec": {
   "display_name": "Python 3",
   "language": "python",
   "name": "python3"
  },
  "language_info": {
   "codemirror_mode": {
    "name": "ipython",
    "version": 3
   },
   "file_extension": ".py",
   "mimetype": "text/x-python",
   "name": "python",
   "nbconvert_exporter": "python",
   "pygments_lexer": "ipython3",
   "version": "3.11.1"
  },
  "orig_nbformat": 4
 },
 "nbformat": 4,
 "nbformat_minor": 2
}
